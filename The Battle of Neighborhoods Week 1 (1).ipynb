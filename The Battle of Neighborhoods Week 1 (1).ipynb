{
 "cells": [
  {
   "cell_type": "markdown",
   "metadata": {
    "collapsed": true
   },
   "source": [
    "# Capstone Project - The Battle of Neighborhoods #\n",
    "### _Kitchener Vs. Waterloo, ON_ ###\n",
    "##### Can a New Sushi Restauraunt be Sucessful in Either Kitchener or Waterloo Neighbourhoods? #####"
   ]
  },
  {
   "cell_type": "markdown",
   "metadata": {},
   "source": [
    "<img src=\"https://i.pinimg.com/originals/65/50/cb/6550cb609b6ad9ca31a7795d2b0d786c.jpg\" width=\"400\" height=\"400\"/>"
   ]
  },
  {
   "cell_type": "markdown",
   "metadata": {},
   "source": [
    "## Table of contents\n",
    "* [Introduction: Business Problem](#introduction)"
   ]
  },
  {
   "cell_type": "markdown",
   "metadata": {},
   "source": [
    "## Introduction: Business Problem <a name=\"introduction\"></a>"
   ]
  },
  {
   "cell_type": "markdown",
   "metadata": {},
   "source": [
    "* Clearly define a problem or an idea of your choice, where you would need to leverage the Foursquare location data to solve or execute. Remember that data science problems always target an audience and are meant to help a group of stakeholders solve a problem, so make sure that you explicitly describe your audience and why they would care about your problem."
   ]
  },
  {
   "cell_type": "markdown",
   "metadata": {},
   "source": [
    "In this project we will try to find an optimal location for stakeholders to open a new sushi restaurant in either **Kitchener** or **Waterloo**, ON. \n",
    "\n",
    "Sushi is a popular choice in the area of Kitchener and Waterloo. This is partly due to the Universities in town and the booming tech scene that supply patrons of these restauraunts. Sushi in the area of Kitchener and Waterloo can be a quick, easy meal and it can also be a tidy meal because it offers many delicious bite size varieties. (No one likes to go back to the office with burger sauce, or salsa on their shirt for example). It's a convenient option that many people enjoy and can be a fun new experiecne for many patrons. It can also provide a very intimate setting throught the idea of food sharing so it is also a versitile setting that can range from romantic date, to family outing, to business meeting.\n",
    "\n",
    "With so many options of attracting different kinds of patrons with different needs and due to it's popularity in the Kitchener/ Waterloo area it seems natural that stakeholdrs could be interested in investing in a new sushi restauraunt in the area. However, is this type of restauraunt already too puplular in the area? Is there any space left in these neighbourhoods where a new restauraunt could be sucessful? \n",
    "\n",
    "To answer these questions we will need to find out if these areas are already too saturated to support another sushi restauraunt. Since there is assumed to be a lot of sushi resatauraunts in the Kitchener/Waterloo area we will try to detect **locations that are not already crowded with sushi restaurants**. We are interested in **areas with little or no sushi restaurants in these neighbourhoods**. We would also prefre locations **as close to the Universities as possible**, assuming that the first two conditions are met. \n",
    "\n",
    "We will use data analysis to generate a few of the most promising areas of Kitchener/Waterloo neighbourhoods for a new sushi restauraunt based on this criteria so that a final location can be chosen by stakeholders or so that we can determine that this type of restauraunt is not likely to be sucessful in these areas and perhaps determine that the stakeholders should continue their search in another nearby area such as Cambridge or Elmira,ON. Or, perhaps the data will show that they should look at choosing a different type of restauraunt altogether.  "
   ]
  },
  {
   "cell_type": "code",
   "execution_count": null,
   "metadata": {},
   "outputs": [],
   "source": []
  }
 ],
 "metadata": {
  "kernelspec": {
   "display_name": "Python 3.7",
   "language": "python",
   "name": "python3"
  },
  "language_info": {
   "codemirror_mode": {
    "name": "ipython",
    "version": 3
   },
   "file_extension": ".py",
   "mimetype": "text/x-python",
   "name": "python",
   "nbconvert_exporter": "python",
   "pygments_lexer": "ipython3",
   "version": "3.7.9"
  }
 },
 "nbformat": 4,
 "nbformat_minor": 1
}
